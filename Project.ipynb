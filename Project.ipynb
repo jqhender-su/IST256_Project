{
 "cells": [
  {
   "cell_type": "code",
   "execution_count": 1,
   "metadata": {},
   "outputs": [
    {
     "name": "stdout",
     "output_type": "stream",
     "text": [
      "Do you wish to add a stock to the portfolio? type y/n : n\n",
      "You Portfolio\n",
      "--------------\n"
     ]
    }
   ],
   "source": [
    "portfolio = []\n",
    "count = 0\n",
    "stock_features = ['symbol','value']\n",
    "\n",
    "while True:\n",
    "    check = input(\"Do you wish to add a stock to the portfolio? type y/n : \").lower()\n",
    "    \n",
    "    \n",
    "    if check == 'n':\n",
    "        print(\"Your Portfolio\")\n",
    "        print('-'*14)\n",
    "        for each in range(count):\n",
    "            print(portfolio[each]['symbol'],portfolio[each]['value'])\n",
    "        break\n",
    "    \n",
    "    elif check == 'y':\n",
    "        count += 1\n",
    "        stock = {}\n",
    "        for feature in stock_features:\n",
    "            entry = input('Enter stock ' + feature + ' : ')\n",
    "            \n",
    "            if feature == 'value':\n",
    "                entry = float(entry)\n",
    "            \n",
    "            stock[feature] = entry\n",
    "            # print(stock['symbol'] , stock['value'])\n",
    "            \n",
    "        portfolio.append(stock)\n",
    "        continue\n",
    "        \n",
    "    else:\n",
    "        print (\"bad entry\")"
   ]
  },
  {
   "cell_type": "code",
   "execution_count": null,
   "metadata": {
    "collapsed": true
   },
   "outputs": [],
   "source": []
  }
 ],
 "metadata": {
  "kernelspec": {
   "display_name": "Python 3",
   "language": "python",
   "name": "python3"
  },
  "language_info": {
   "codemirror_mode": {
    "name": "ipython",
    "version": 3
   },
   "file_extension": ".py",
   "mimetype": "text/x-python",
   "name": "python",
   "nbconvert_exporter": "python",
   "pygments_lexer": "ipython3",
   "version": "3.6.1"
  }
 },
 "nbformat": 4,
 "nbformat_minor": 2
}
